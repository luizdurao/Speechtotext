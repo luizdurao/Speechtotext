{
 "cells": [
  {
   "cell_type": "code",
   "execution_count": null,
   "metadata": {
    "colab": {},
    "colab_type": "code",
    "id": "xDO710m2Ec4Y"
   },
   "outputs": [],
   "source": [
    "! pip install gcloud"
   ]
  },
  {
   "cell_type": "code",
   "execution_count": null,
   "metadata": {
    "colab": {},
    "colab_type": "code",
    "id": "kqwJJmQdekQk"
   },
   "outputs": [],
   "source": [
    "! pip install pydub"
   ]
  },
  {
   "cell_type": "code",
   "execution_count": null,
   "metadata": {
    "colab": {},
    "colab_type": "code",
    "id": "Hsl6l9a1exVz"
   },
   "outputs": [],
   "source": [
    "!pip install google-cloud-speech"
   ]
  },
  {
   "cell_type": "code",
   "execution_count": null,
   "metadata": {
    "colab": {},
    "colab_type": "code",
    "id": "jOtLIew7eXkT"
   },
   "outputs": [],
   "source": [
    "filepath = \"/content/drive/My Drive/00_LUMEN/2_Projetos/Previsão de bilheteria/Audios/\"\n",
    "output_filepath = \"/content/drive/My Drive/00_LUMEN/2_Projetos/Previsão de bilheteria/Audios/\""
   ]
  },
  {
   "cell_type": "code",
   "execution_count": null,
   "metadata": {
    "colab": {},
    "colab_type": "code",
    "id": "0gxixl2ueeXc"
   },
   "outputs": [],
   "source": [
    "from pydub import AudioSegment\n",
    "import io\n",
    "import os\n",
    "from google.cloud import speech_v1p1beta1 as speech\n",
    "from google.cloud.speech_v1p1beta1 import enums\n",
    "from google.cloud.speech_v1p1beta1 import types\n",
    "import wave\n",
    "from google.cloud import storage\n",
    "from gcloud import storage\n",
    "from oauth2client.service_account import ServiceAccountCredentials\n",
    "from google.oauth2 import service_account"
   ]
  },
  {
   "cell_type": "code",
   "execution_count": null,
   "metadata": {
    "colab": {},
    "colab_type": "code",
    "id": "PnCAUpPyC3Wa"
   },
   "outputs": [],
   "source": [
    "os.environ[\"GOOGLE_APPLICATION_CREDENTIALS\"]=\"/content/drive/My Drive/audios-1569948786422-47921dacf859.json\" #troque pelo seu arquivo .json"
   ]
  },
  {
   "cell_type": "code",
   "execution_count": null,
   "metadata": {
    "colab": {},
    "colab_type": "code",
    "id": "AMjUi2X8fgUE"
   },
   "outputs": [],
   "source": [
    "def mp3_to_wav(audio_file_name):\n",
    "    if audio_file_name.split('.')[1] == 'mp3':    \n",
    "        sound = AudioSegment.from_mp3(audio_file_name)\n",
    "        audio_file_name = audio_file_name.split('.')[0] + '.wav'\n",
    "        sound.export(audio_file_name, format=\"wav\")"
   ]
  },
  {
   "cell_type": "code",
   "execution_count": null,
   "metadata": {
    "colab": {},
    "colab_type": "code",
    "id": "ewNljWXyfth3"
   },
   "outputs": [],
   "source": [
    "def frame_rate_channel(audio_file_name):\n",
    "    with wave.open(audio_file_name, \"rb\") as wave_file:\n",
    "        frame_rate = wave_file.getframerate()\n",
    "        channels = wave_file.getnchannels()\n",
    "        return frame_rate,channels"
   ]
  },
  {
   "cell_type": "code",
   "execution_count": null,
   "metadata": {
    "colab": {},
    "colab_type": "code",
    "id": "x4YvZb91fyYh"
   },
   "outputs": [],
   "source": [
    "def stereo_to_mono(audio_file_name):\n",
    "    sound = AudioSegment.from_wav(audio_file_name)\n",
    "    sound = sound.set_channels(1)\n",
    "    sound.export(audio_file_name, format=\"wav\")"
   ]
  },
  {
   "cell_type": "code",
   "execution_count": null,
   "metadata": {
    "colab": {},
    "colab_type": "code",
    "id": "UlurfUH6f1-z"
   },
   "outputs": [],
   "source": [
    "def upload_blob(bucket_name, source_file_name, destination_blob_name):\n",
    "    \"\"\"Uploads a file to the bucket.\"\"\"\n",
    "    credentials = ServiceAccountCredentials.from_json_keyfile_name('/content/drive/My Drive/audios-1569948786422-855f26714684.json')#troque pelo seu arquivo .json\n",
    "    client = storage.Client(credentials=credentials, project='audios')\n",
    "    bucket = client.get_bucket(bucket_name)\n",
    "    blob = bucket.blob(destination_blob_name)\n",
    "\n",
    "    blob.upload_from_filename(source_file_name)"
   ]
  },
  {
   "cell_type": "code",
   "execution_count": null,
   "metadata": {
    "colab": {},
    "colab_type": "code",
    "id": "abzmLEE_f5KE"
   },
   "outputs": [],
   "source": [
    "def delete_blob(bucket_name, blob_name):\n",
    "    \"\"\"Deletes a blob from the bucket.\"\"\"\n",
    "    credentials = ServiceAccountCredentials.from_json_keyfile_name('/content/drive/My Drive/audios-1569948786422-855f26714684.json')#troque pelo seu arquivo .json\n",
    "    client = storage.Client(credentials=credentials, project='audios')\n",
    "    bucket = client.get_bucket(bucket_name)\n",
    "    blob = bucket.blob(blob_name)\n",
    "\n",
    "    blob.delete()"
   ]
  },
  {
   "cell_type": "code",
   "execution_count": null,
   "metadata": {
    "colab": {},
    "colab_type": "code",
    "id": "A1EXDqtRf8DF"
   },
   "outputs": [],
   "source": [
    "def google_transcribe(audio_file_name):\n",
    "  \n",
    "  \n",
    "       \n",
    "    file_name = filepath + audio_file_name\n",
    "    mp3_to_wav(file_name)\n",
    "\n",
    "    # The name of the audio file to transcribe\n",
    "    \n",
    "    frame_rate, channels = frame_rate_channel(file_name)\n",
    "    \n",
    "    if channels > 1:\n",
    "        stereo_to_mono(file_name)\n",
    "    \n",
    "    bucket_name = 'audios_codes'\n",
    "    source_file_name = filepath + audio_file_name\n",
    "    destination_blob_name = audio_file_name\n",
    "    \n",
    "    upload_blob(bucket_name, source_file_name, destination_blob_name)\n",
    "    \n",
    "    gcs_uri = 'gs://audios_codes/' + audio_file_name\n",
    "    transcript = ''\n",
    "    \n",
    "    credentials = service_account.Credentials.from_service_account_file('/content/drive/My Drive/audios-1569948786422-47921dacf859.json')  #troque pelo seu arquivo .json\n",
    "    client = speech.SpeechClient(credentials=credentials)\n",
    "    audio = types.RecognitionAudio(uri=gcs_uri)\n",
    "\n",
    "    config = types.RecognitionConfig(\n",
    "    encoding=enums.RecognitionConfig.AudioEncoding.LINEAR16,\n",
    "    sample_rate_hertz=frame_rate,\n",
    "    language_code='pt-BR',\n",
    "    enable_speaker_diarization=True,\n",
    "    diarization_speaker_count=2)\n",
    "    \n",
    "\n",
    "    # Detects speech in the audio file\n",
    "    operation = client.long_running_recognize(config, audio)\n",
    "    print(operation)\n",
    "    response = operation.result(timeout=1000000)\n",
    "    result = response.results[-1]\n",
    "    words_info = result.alternatives[0].words\n",
    "    \n",
    "    tag=1\n",
    "    speaker=\"\"\n",
    "\n",
    "    for word_info in words_info:\n",
    "        if word_info.speaker_tag==tag:\n",
    "            speaker=speaker+\" \"+word_info.word\n",
    "        else:\n",
    "            transcript += \"speaker {}: {}\".format(tag,speaker) + '\\n'\n",
    "            tag=word_info.speaker_tag\n",
    "            speaker=\"\"+word_info.word\n",
    "\n",
    "    transcript += \"speaker {}: {}\".format(tag,speaker)\n",
    "    \n",
    "    delete_blob(bucket_name, destination_blob_name)\n",
    "    return transcript"
   ]
  },
  {
   "cell_type": "code",
   "execution_count": null,
   "metadata": {
    "colab": {},
    "colab_type": "code",
    "id": "o8puRIaHgFiI"
   },
   "outputs": [],
   "source": [
    "def write_transcripts(transcript_filename,transcript):\n",
    "    f= open(output_filepath + transcript_filename,\"w+\")\n",
    "    f.write(transcript)\n",
    "    f.close()"
   ]
  },
  {
   "cell_type": "code",
   "execution_count": null,
   "metadata": {
    "colab": {
     "base_uri": "https://localhost:8080/",
     "height": 187
    },
    "colab_type": "code",
    "id": "oInTmfpHgJBQ",
    "outputId": "58b90c4b-64fc-44e3-d319-8f57fece86f8"
   },
   "outputs": [
    {
     "name": "stdout",
     "output_type": "stream",
     "text": [
      "<google.api_core.operation.Operation object at 0x7f4d4462e7b8>\n"
     ]
    }
   ],
   "source": [
    "if __name__ == \"__main__\":\n",
    "    for audio_file_name in os.listdir(filepath):\n",
    "        exists = os.path.isfile(output_filepath + audio_file_name.split('.')[0] + '.txt')\n",
    "        if exists:\n",
    "            pass\n",
    "        else:\n",
    "            transcript = google_transcribe(audio_file_name)\n",
    "            transcript_filename = audio_file_name.split('.')[0] + '.txt'\n",
    "            write_transcripts(transcript_filename,transcript)"
   ]
  }
 ],
 "metadata": {
  "colab": {
   "name": "speech_to_text.ipynb",
   "provenance": []
  },
  "kernelspec": {
   "display_name": "Python 3",
   "language": "python",
   "name": "python3"
  },
  "language_info": {
   "codemirror_mode": {
    "name": "ipython",
    "version": 3
   },
   "file_extension": ".py",
   "mimetype": "text/x-python",
   "name": "python",
   "nbconvert_exporter": "python",
   "pygments_lexer": "ipython3",
   "version": "3.7.3"
  }
 },
 "nbformat": 4,
 "nbformat_minor": 4
}
